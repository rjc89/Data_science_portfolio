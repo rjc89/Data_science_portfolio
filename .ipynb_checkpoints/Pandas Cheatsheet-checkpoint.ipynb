{
 "cells": [
  {
   "cell_type": "code",
   "execution_count": 1,
   "metadata": {
    "collapsed": true
   },
   "outputs": [],
   "source": [
    "import pandas as pd\n",
    "import numpy as np"
   ]
  },
  {
   "cell_type": "markdown",
   "metadata": {},
   "source": [
    "## Importing Datasets"
   ]
  },
  {
   "cell_type": "code",
   "execution_count": null,
   "metadata": {
    "collapsed": true
   },
   "outputs": [],
   "source": [
    "pd.read_csv(filename) - From a CSV file\n",
    "pd.read_table(filename) - From a delimited text\n",
    "file (like TSV)\n",
    "pd.read_excel(filename) - From an Excel file\n",
    "pd.read_sql(query, connection_object) -\n",
    "Reads from a SQL table/database\n",
    "pd.read_json(json_string) - Reads from a JSON\n",
    "formatted string, URL or file.\n",
    "pd.read_html(url) - Parses an html URL, string or\n",
    "file and extracts tables to a list of dataframes\n",
    "pd.read_clipboard() - Takes the contents of your\n",
    "clipboard and passes it to read_table()\n",
    "pd.DataFrame(dict) -"
   ]
  }
 ],
 "metadata": {
  "kernelspec": {
   "display_name": "Python 3",
   "language": "python",
   "name": "python3"
  },
  "language_info": {
   "codemirror_mode": {
    "name": "ipython",
    "version": 3
   },
   "file_extension": ".py",
   "mimetype": "text/x-python",
   "name": "python",
   "nbconvert_exporter": "python",
   "pygments_lexer": "ipython3",
   "version": "3.6.5"
  }
 },
 "nbformat": 4,
 "nbformat_minor": 2
}
