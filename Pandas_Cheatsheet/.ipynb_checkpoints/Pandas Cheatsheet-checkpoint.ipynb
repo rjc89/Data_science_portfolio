{
 "cells": [
  {
   "cell_type": "code",
   "execution_count": 1,
   "metadata": {
    "collapsed": true
   },
   "outputs": [],
   "source": [
    "import pandas as pd\n",
    "import numpy as np"
   ]
  },
  {
   "cell_type": "markdown",
   "metadata": {},
   "source": [
    "## Importing Datasets"
   ]
  },
  {
   "cell_type": "markdown",
   "metadata": {},
   "source": [
    "Pandas allows you to read in a variety of data types into its tabular DataFrame object, allowing the machine learning and data science fun to begin"
   ]
  },
  {
   "cell_type": "code",
   "execution_count": null,
   "metadata": {
    "collapsed": true
   },
   "outputs": [],
   "source": [
    "pd.read_csv(filename) # from a CSV\n",
    "pd.read_table(filename) # from a tab delimited (TSV)\n",
    "pd.read_excel(filename) #from Excel\n",
    "pd.read_sql(query, connection_object) # read in from an SQL table or database\n",
    "pd.read_json(json_string) # read in from a JSON\n",
    "pd.read_html(url) # parse a html URL, string or file and extract tables to a list of dataframes\n",
    "pd.read_clipboard() # read in the contents of your clipboard\n",
    "pd.DataFrame(dict) # read in data from a dictionary object, using the keys as column names"
   ]
  },
  {
   "cell_type": "markdown",
   "metadata": {},
   "source": [
    "## Exporting Data"
   ]
  },
  {
   "cell_type": "markdown",
   "metadata": {},
   "source": [
    "If you wish you can also export data out of a DataFrame in various formats"
   ]
  },
  {
   "cell_type": "code",
   "execution_count": null,
   "metadata": {
    "collapsed": true
   },
   "outputs": [],
   "source": [
    "df.to_csv(filename) # writes to a CSV\n",
    "df.to_excel(filename) # writes to an Excel file\n",
    "df.to_sql(table_name, connection_object) # writes to a SQL table\n",
    "df.to_json(filename) # writes to a JSON file\n",
    "df.to_html(filename) # saves as an HTML table\n",
    "df.to_clipboard() # copies to the clipboard"
   ]
  },
  {
   "cell_type": "markdown",
   "metadata": {},
   "source": [
    "## Create Testing Objects"
   ]
  },
  {
   "cell_type": "markdown",
   "metadata": {},
   "source": [
    "If you want to test out some Pandas featuers without reading in or setting up some data yourself, these built in functions generate toy data for you"
   ]
  },
  {
   "cell_type": "code",
   "execution_count": null,
   "metadata": {
    "collapsed": true
   },
   "outputs": [],
   "source": [
    "pd.DataFrame(np.random.rand(20,5)) # 5 columns and 20 rows of random floats\n",
    "pd.Series(my_list) # creates a series from an iterable my_list\n",
    "df.index = pd.date_range('1900/1/30',periods=df.shape[0]) # adds a date index"
   ]
  },
  {
   "cell_type": "markdown",
   "metadata": {},
   "source": [
    "## Inspecting Data"
   ]
  }
 ],
 "metadata": {
  "kernelspec": {
   "display_name": "Python 3",
   "language": "python",
   "name": "python3"
  },
  "language_info": {
   "codemirror_mode": {
    "name": "ipython",
    "version": 3
   },
   "file_extension": ".py",
   "mimetype": "text/x-python",
   "name": "python",
   "nbconvert_exporter": "python",
   "pygments_lexer": "ipython3",
   "version": "3.6.5"
  }
 },
 "nbformat": 4,
 "nbformat_minor": 2
}
