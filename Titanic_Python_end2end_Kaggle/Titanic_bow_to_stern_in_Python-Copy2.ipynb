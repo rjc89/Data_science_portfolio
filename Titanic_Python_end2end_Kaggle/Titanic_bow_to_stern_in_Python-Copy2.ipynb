{
 "cells": [
  {
   "cell_type": "markdown",
   "metadata": {},
   "source": [
    "## **Table of Contents** \n",
    "* ** [Exploratory data analysis](#Exploratory-data-analysis)**\n",
    "    + Read in data to a Pandas dataframe and inspect the features\n",
    "    + Feature correlation visualisation\n",
    "* ** [Data cleaning and feature engineering](#Data-cleaning-and-feature-engineering)**\n",
    "    + Dealing with missing values and dropping unwanted features\n",
    "    + Converting categorical features to numerical representations\n",
    "    + Assigning continuous features to discrete bins\n",
    "    + Extracting new features\n",
    "* ** [Training ML algorithms to predict survival with scikit-learn](#Training-ML-algorithms-to-predict-survival-with-scikit-learn)**\n",
    "    + K-fold cross validation to train the optimal classification algorithm\n",
    "    + What is XGBoost and how does it work?\n",
    "    + Feature importance\n",
    "    + Hyperparameter tuning with GridSearch CV\n",
    "* ** [Model evaluation](#Model-evaluation) **\n",
    "    + Learning curves: bias vs variance\n",
    "    + Confusion matrix\n",
    "    + Precision vs recall\n",
    "    + Precision/recall trade off\n",
    "    + ROC-AUC \n",
    "* ** [Submission](#Submission) **\n",
    "* ** [Conclusions](#Conclusions) **"
   ]
  },
  {
   "cell_type": "markdown",
   "metadata": {},
   "source": [
    "# The Titanic dataset and binary classification challenge\n"
   ]
  },
  {
   "cell_type": "markdown",
   "metadata": {},
   "source": [
    "In this challenge we're provided with some tabulated data about passengers on the RMS Titanic and how they faired in the infamous maritime disaster. The challenge is to explore the data, identify and prepare predictive features correlating with survival probability and train a binary classifier to successfully predict survival in an unlabelled dataset, using those features. "
   ]
  },
  {
   "cell_type": "markdown",
   "metadata": {},
   "source": [
    "# Exploratory data analysis\n",
    "\n",
    "## Read in data to a Pandas dataframe and inspect the features\n",
    "We are provided with passenger manifest data from the Titanic in two csv files. A train.csv file containing features and survival target label and a test.csv with features but no survival column. Firstly, I should read in the data to a pandas dataframe to allow me to explore and manipulate the data effectively."
   ]
  },
  {
   "cell_type": "code",
   "execution_count": 1,
   "metadata": {
    "collapsed": true
   },
   "outputs": [],
   "source": [
    "# Load dependencies\n",
    "\n",
    "import pandas as pd    # data cleaning and preparation\n",
    "import numpy as np     # arrays, linear algebra \n",
    "import matplotlib.pyplot as plt  #visualisation libraries\n",
    "import seaborn as sns    #pretty plots by default\n",
    "import re              # regular expressions for pattern matching in strings\n",
    "\n",
    "sns.set(style='whitegrid', rc={\"grid.linewidth\": 0.1})\n",
    "sns.set_context(\"paper\", font_scale=2)\n",
    "%matplotlib inline\n",
    "\n",
    "from IPython.display import Image\n",
    "from IPython.core.display import HTML "
   ]
  },
  {
   "cell_type": "code",
   "execution_count": 2,
   "metadata": {
    "collapsed": true
   },
   "outputs": [],
   "source": [
    "#Read in the titanic survival dataset CSV files\n",
    "\n",
    "df_train = pd.read_csv('/Users/constar/Downloads/titanic_end2end/train.csv')\n",
    "df_test = pd.read_csv('/Users/constar/Downloads/titanic_end2end/test.csv')"
   ]
  },
  {
   "cell_type": "code",
   "execution_count": 3,
   "metadata": {},
   "outputs": [
    {
     "data": {
      "text/html": [
       "<div>\n",
       "<style>\n",
       "    .dataframe thead tr:only-child th {\n",
       "        text-align: right;\n",
       "    }\n",
       "\n",
       "    .dataframe thead th {\n",
       "        text-align: left;\n",
       "    }\n",
       "\n",
       "    .dataframe tbody tr th {\n",
       "        vertical-align: top;\n",
       "    }\n",
       "</style>\n",
       "<table border=\"1\" class=\"dataframe\">\n",
       "  <thead>\n",
       "    <tr style=\"text-align: right;\">\n",
       "      <th></th>\n",
       "      <th>PassengerId</th>\n",
       "      <th>Survived</th>\n",
       "      <th>Pclass</th>\n",
       "      <th>Name</th>\n",
       "      <th>Sex</th>\n",
       "      <th>Age</th>\n",
       "      <th>SibSp</th>\n",
       "      <th>Parch</th>\n",
       "      <th>Ticket</th>\n",
       "      <th>Fare</th>\n",
       "      <th>Cabin</th>\n",
       "      <th>Embarked</th>\n",
       "    </tr>\n",
       "  </thead>\n",
       "  <tbody>\n",
       "    <tr>\n",
       "      <th>0</th>\n",
       "      <td>1</td>\n",
       "      <td>0</td>\n",
       "      <td>3</td>\n",
       "      <td>Braund, Mr. Owen Harris</td>\n",
       "      <td>male</td>\n",
       "      <td>22.0</td>\n",
       "      <td>1</td>\n",
       "      <td>0</td>\n",
       "      <td>A/5 21171</td>\n",
       "      <td>7.2500</td>\n",
       "      <td>NaN</td>\n",
       "      <td>S</td>\n",
       "    </tr>\n",
       "    <tr>\n",
       "      <th>1</th>\n",
       "      <td>2</td>\n",
       "      <td>1</td>\n",
       "      <td>1</td>\n",
       "      <td>Cumings, Mrs. John Bradley (Florence Briggs Th...</td>\n",
       "      <td>female</td>\n",
       "      <td>38.0</td>\n",
       "      <td>1</td>\n",
       "      <td>0</td>\n",
       "      <td>PC 17599</td>\n",
       "      <td>71.2833</td>\n",
       "      <td>C85</td>\n",
       "      <td>C</td>\n",
       "    </tr>\n",
       "    <tr>\n",
       "      <th>2</th>\n",
       "      <td>3</td>\n",
       "      <td>1</td>\n",
       "      <td>3</td>\n",
       "      <td>Heikkinen, Miss. Laina</td>\n",
       "      <td>female</td>\n",
       "      <td>26.0</td>\n",
       "      <td>0</td>\n",
       "      <td>0</td>\n",
       "      <td>STON/O2. 3101282</td>\n",
       "      <td>7.9250</td>\n",
       "      <td>NaN</td>\n",
       "      <td>S</td>\n",
       "    </tr>\n",
       "    <tr>\n",
       "      <th>3</th>\n",
       "      <td>4</td>\n",
       "      <td>1</td>\n",
       "      <td>1</td>\n",
       "      <td>Futrelle, Mrs. Jacques Heath (Lily May Peel)</td>\n",
       "      <td>female</td>\n",
       "      <td>35.0</td>\n",
       "      <td>1</td>\n",
       "      <td>0</td>\n",
       "      <td>113803</td>\n",
       "      <td>53.1000</td>\n",
       "      <td>C123</td>\n",
       "      <td>S</td>\n",
       "    </tr>\n",
       "    <tr>\n",
       "      <th>4</th>\n",
       "      <td>5</td>\n",
       "      <td>0</td>\n",
       "      <td>3</td>\n",
       "      <td>Allen, Mr. William Henry</td>\n",
       "      <td>male</td>\n",
       "      <td>35.0</td>\n",
       "      <td>0</td>\n",
       "      <td>0</td>\n",
       "      <td>373450</td>\n",
       "      <td>8.0500</td>\n",
       "      <td>NaN</td>\n",
       "      <td>S</td>\n",
       "    </tr>\n",
       "  </tbody>\n",
       "</table>\n",
       "</div>"
      ],
      "text/plain": [
       "   PassengerId  Survived  Pclass  \\\n",
       "0            1         0       3   \n",
       "1            2         1       1   \n",
       "2            3         1       3   \n",
       "3            4         1       1   \n",
       "4            5         0       3   \n",
       "\n",
       "                                                Name     Sex   Age  SibSp  \\\n",
       "0                            Braund, Mr. Owen Harris    male  22.0      1   \n",
       "1  Cumings, Mrs. John Bradley (Florence Briggs Th...  female  38.0      1   \n",
       "2                             Heikkinen, Miss. Laina  female  26.0      0   \n",
       "3       Futrelle, Mrs. Jacques Heath (Lily May Peel)  female  35.0      1   \n",
       "4                           Allen, Mr. William Henry    male  35.0      0   \n",
       "\n",
       "   Parch            Ticket     Fare Cabin Embarked  \n",
       "0      0         A/5 21171   7.2500   NaN        S  \n",
       "1      0          PC 17599  71.2833   C85        C  \n",
       "2      0  STON/O2. 3101282   7.9250   NaN        S  \n",
       "3      0            113803  53.1000  C123        S  \n",
       "4      0            373450   8.0500   NaN        S  "
      ]
     },
     "execution_count": 3,
     "metadata": {},
     "output_type": "execute_result"
    }
   ],
   "source": [
    "#Take a look at the training data frame \n",
    "df_train.head()"
   ]
  },
  {
   "cell_type": "code",
   "execution_count": 4,
   "metadata": {},
   "outputs": [
    {
     "name": "stdout",
     "output_type": "stream",
     "text": [
      "<class 'pandas.core.frame.DataFrame'>\n",
      "RangeIndex: 891 entries, 0 to 890\n",
      "Data columns (total 12 columns):\n",
      "PassengerId    891 non-null int64\n",
      "Survived       891 non-null int64\n",
      "Pclass         891 non-null int64\n",
      "Name           891 non-null object\n",
      "Sex            891 non-null object\n",
      "Age            714 non-null float64\n",
      "SibSp          891 non-null int64\n",
      "Parch          891 non-null int64\n",
      "Ticket         891 non-null object\n",
      "Fare           891 non-null float64\n",
      "Cabin          204 non-null object\n",
      "Embarked       889 non-null object\n",
      "dtypes: float64(2), int64(5), object(5)\n",
      "memory usage: 83.6+ KB\n"
     ]
    }
   ],
   "source": [
    "#Use df.info() to get a count of the non-null rows in each column. We can also see the data type of each column\n",
    "df_train.info()"
   ]
  },
  {
   "cell_type": "code",
   "execution_count": 5,
   "metadata": {},
   "outputs": [
    {
     "data": {
      "text/html": [
       "<div>\n",
       "<style>\n",
       "    .dataframe thead tr:only-child th {\n",
       "        text-align: right;\n",
       "    }\n",
       "\n",
       "    .dataframe thead th {\n",
       "        text-align: left;\n",
       "    }\n",
       "\n",
       "    .dataframe tbody tr th {\n",
       "        vertical-align: top;\n",
       "    }\n",
       "</style>\n",
       "<table border=\"1\" class=\"dataframe\">\n",
       "  <thead>\n",
       "    <tr style=\"text-align: right;\">\n",
       "      <th></th>\n",
       "      <th>PassengerId</th>\n",
       "      <th>Survived</th>\n",
       "      <th>Pclass</th>\n",
       "      <th>Age</th>\n",
       "      <th>SibSp</th>\n",
       "      <th>Parch</th>\n",
       "      <th>Fare</th>\n",
       "    </tr>\n",
       "  </thead>\n",
       "  <tbody>\n",
       "    <tr>\n",
       "      <th>count</th>\n",
       "      <td>891.000000</td>\n",
       "      <td>891.000000</td>\n",
       "      <td>891.000000</td>\n",
       "      <td>714.000000</td>\n",
       "      <td>891.000000</td>\n",
       "      <td>891.000000</td>\n",
       "      <td>891.000000</td>\n",
       "    </tr>\n",
       "    <tr>\n",
       "      <th>mean</th>\n",
       "      <td>446.000000</td>\n",
       "      <td>0.383838</td>\n",
       "      <td>2.308642</td>\n",
       "      <td>29.699118</td>\n",
       "      <td>0.523008</td>\n",
       "      <td>0.381594</td>\n",
       "      <td>32.204208</td>\n",
       "    </tr>\n",
       "    <tr>\n",
       "      <th>std</th>\n",
       "      <td>257.353842</td>\n",
       "      <td>0.486592</td>\n",
       "      <td>0.836071</td>\n",
       "      <td>14.526497</td>\n",
       "      <td>1.102743</td>\n",
       "      <td>0.806057</td>\n",
       "      <td>49.693429</td>\n",
       "    </tr>\n",
       "    <tr>\n",
       "      <th>min</th>\n",
       "      <td>1.000000</td>\n",
       "      <td>0.000000</td>\n",
       "      <td>1.000000</td>\n",
       "      <td>0.420000</td>\n",
       "      <td>0.000000</td>\n",
       "      <td>0.000000</td>\n",
       "      <td>0.000000</td>\n",
       "    </tr>\n",
       "    <tr>\n",
       "      <th>25%</th>\n",
       "      <td>223.500000</td>\n",
       "      <td>0.000000</td>\n",
       "      <td>2.000000</td>\n",
       "      <td>20.125000</td>\n",
       "      <td>0.000000</td>\n",
       "      <td>0.000000</td>\n",
       "      <td>7.910400</td>\n",
       "    </tr>\n",
       "    <tr>\n",
       "      <th>50%</th>\n",
       "      <td>446.000000</td>\n",
       "      <td>0.000000</td>\n",
       "      <td>3.000000</td>\n",
       "      <td>28.000000</td>\n",
       "      <td>0.000000</td>\n",
       "      <td>0.000000</td>\n",
       "      <td>14.454200</td>\n",
       "    </tr>\n",
       "    <tr>\n",
       "      <th>75%</th>\n",
       "      <td>668.500000</td>\n",
       "      <td>1.000000</td>\n",
       "      <td>3.000000</td>\n",
       "      <td>38.000000</td>\n",
       "      <td>1.000000</td>\n",
       "      <td>0.000000</td>\n",
       "      <td>31.000000</td>\n",
       "    </tr>\n",
       "    <tr>\n",
       "      <th>max</th>\n",
       "      <td>891.000000</td>\n",
       "      <td>1.000000</td>\n",
       "      <td>3.000000</td>\n",
       "      <td>80.000000</td>\n",
       "      <td>8.000000</td>\n",
       "      <td>6.000000</td>\n",
       "      <td>512.329200</td>\n",
       "    </tr>\n",
       "  </tbody>\n",
       "</table>\n",
       "</div>"
      ],
      "text/plain": [
       "       PassengerId    Survived      Pclass         Age       SibSp  \\\n",
       "count   891.000000  891.000000  891.000000  714.000000  891.000000   \n",
       "mean    446.000000    0.383838    2.308642   29.699118    0.523008   \n",
       "std     257.353842    0.486592    0.836071   14.526497    1.102743   \n",
       "min       1.000000    0.000000    1.000000    0.420000    0.000000   \n",
       "25%     223.500000    0.000000    2.000000   20.125000    0.000000   \n",
       "50%     446.000000    0.000000    3.000000   28.000000    0.000000   \n",
       "75%     668.500000    1.000000    3.000000   38.000000    1.000000   \n",
       "max     891.000000    1.000000    3.000000   80.000000    8.000000   \n",
       "\n",
       "            Parch        Fare  \n",
       "count  891.000000  891.000000  \n",
       "mean     0.381594   32.204208  \n",
       "std      0.806057   49.693429  \n",
       "min      0.000000    0.000000  \n",
       "25%      0.000000    7.910400  \n",
       "50%      0.000000   14.454200  \n",
       "75%      0.000000   31.000000  \n",
       "max      6.000000  512.329200  "
      ]
     },
     "execution_count": 5,
     "metadata": {},
     "output_type": "execute_result"
    }
   ],
   "source": [
    "#Use df.describe() to see a summary statistics table for the dataframe\n",
    "\n",
    "df_train.describe()"
   ]
  },
  {
   "cell_type": "markdown",
   "metadata": {},
   "source": [
    "* From the df.describe() output we see that the mean for the survived column (0 = died, 1 = survived) is 0.38, therefore a mere 38% of the passengers in the training set survived. The two classes in our target variable are not evenly distributed in the data, something to consider during modelling.\n",
    "\n",
    "* If the test set features are similarly distributed to the training set, a predictor predicting death no matter the input feature values would be 62% accurate\n",
    "\n",
    "* We can also see the count, mean, std, min and max values for the various features giving a sense of their distributions\n",
    "\n",
    "* Looks like we have some missing values in the Age and Cabin columns in the training set, which will have to be dealt with before model building\n",
    "\n",
    "* Many of the feature columns are categorical variables which will need to be converted to numerically encoded representations in order to feed them into machine learning models in sklearn"
   ]
  },
  {
   "cell_type": "markdown",
   "metadata": {},
   "source": [
    "## Feature correlation visualisation\n",
    "By plotting features against the target label we draw some initial conclusions about the correlation between the existing numerical features and survival."
   ]
  },
  {
   "cell_type": "code",
   "execution_count": 6,
   "metadata": {},
   "outputs": [
    {
     "data": {
      "image/png": "[encoded data removed]",
      "text/plain": [
       "<matplotlib.figure.Figure at 0x1181fe9b0>"
      ]
     },
     "metadata": {},
     "output_type": "display_data"
    }
   ],
   "source": [
    "# More women surived than men\n",
    "sns.factorplot(x='Sex', col='Survived', kind='count', data=df_train);"
   ]
  },
  {
   "cell_type": "code",
   "execution_count": 7,
   "metadata": {},
   "outputs": [
    {
     "data": {
      "text/plain": [
       "<seaborn.axisgrid.FacetGrid at 0x11815ddd8>"
      ]
     },
     "execution_count": 7,
     "metadata": {},
     "output_type": "execute_result"
    },
    {
     "data": {
      "image/png": "[encoded data removed]",
      "text/plain": [
       "<matplotlib.figure.Figure at 0x11816bbe0>"
      ]
     },
     "metadata": {},
     "output_type": "display_data"
    }
   ],
   "source": [
    "# First class passengers > second class passengers > third class passengers, in percentage survival\n",
    "sns.factorplot('Pclass','Survived', data=df_train)"
   ]
  },
  {
   "cell_type": "code",
   "execution_count": 8,
   "metadata": {},
   "outputs": [
    {
     "data": {
      "text/html": [
       "<style  type=\"text/css\" >\n",
       "    #T_7f65a652_1a6e_11e8_b173_784f436a9c9frow0_col0 {\n",
       "            background-color:  #00ff80;\n",
       "        }    #T_7f65a652_1a6e_11e8_b173_784f436a9c9frow0_col1 {\n",
       "            background-color:  #00ff80;\n",
       "        }    #T_7f65a652_1a6e_11e8_b173_784f436a9c9frow0_col2 {\n",
       "            background-color:  #00f186;\n",
       "        }    #T_7f65a652_1a6e_11e8_b173_784f436a9c9frow0_col3 {\n",
       "            background-color:  #00ff80;\n",
       "        }    #T_7f65a652_1a6e_11e8_b173_784f436a9c9frow1_col0 {\n",
       "            background-color:  #0096b4;\n",
       "        }    #T_7f65a652_1a6e_11e8_b173_784f436a9c9frow1_col1 {\n",
       "            background-color:  #00a3ae;\n",
       "        }    #T_7f65a652_1a6e_11e8_b173_784f436a9c9frow1_col2 {\n",
       "            background-color:  #00f186;\n",
       "        }    #T_7f65a652_1a6e_11e8_b173_784f436a9c9frow1_col3 {\n",
       "            background-color:  #00cf98;\n",
       "        }    #T_7f65a652_1a6e_11e8_b173_784f436a9c9frow2_col0 {\n",
       "            background-color:  #00a7ac;\n",
       "        }    #T_7f65a652_1a6e_11e8_b173_784f436a9c9frow2_col1 {\n",
       "            background-color:  #0085bc;\n",
       "        }    #T_7f65a652_1a6e_11e8_b173_784f436a9c9frow2_col2 {\n",
       "            background-color:  #006ec8;\n",
       "        }    #T_7f65a652_1a6e_11e8_b173_784f436a9c9frow2_col3 {\n",
       "            background-color:  #0085bc;\n",
       "        }    #T_7f65a652_1a6e_11e8_b173_784f436a9c9frow3_col0 {\n",
       "            background-color:  #00cd98;\n",
       "        }    #T_7f65a652_1a6e_11e8_b173_784f436a9c9frow3_col1 {\n",
       "            background-color:  #00f087;\n",
       "        }    #T_7f65a652_1a6e_11e8_b173_784f436a9c9frow3_col2 {\n",
       "            background-color:  #00ff80;\n",
       "        }    #T_7f65a652_1a6e_11e8_b173_784f436a9c9frow3_col3 {\n",
       "            background-color:  #00f784;\n",
       "        }    #T_7f65a652_1a6e_11e8_b173_784f436a9c9frow4_col0 {\n",
       "            background-color:  #0000ff;\n",
       "        }    #T_7f65a652_1a6e_11e8_b173_784f436a9c9frow4_col1 {\n",
       "            background-color:  #0000ff;\n",
       "        }    #T_7f65a652_1a6e_11e8_b173_784f436a9c9frow4_col2 {\n",
       "            background-color:  #0000ff;\n",
       "        }    #T_7f65a652_1a6e_11e8_b173_784f436a9c9frow4_col3 {\n",
       "            background-color:  #0000ff;\n",
       "        }</style>  \n",
       "<table id=\"T_7f65a652_1a6e_11e8_b173_784f436a9c9f\" > \n",
       "<thead>    <tr> \n",
       "        <th class=\"blank\" ></th> \n",
       "        <th class=\"index_name level0\" >Pclass</th> \n",
       "        <th class=\"col_heading level0 col0\" >1</th> \n",
       "        <th class=\"col_heading level0 col1\" >2</th> \n",
       "        <th class=\"col_heading level0 col2\" >3</th> \n",
       "        <th class=\"col_heading level0 col3\" >All</th> \n",
       "    </tr>    <tr> \n",
       "        <th class=\"index_name level0\" >Sex</th> \n",
       "        <th class=\"index_name level1\" >Survived</th> \n",
       "        <th class=\"blank\" ></th> \n",
       "        <th class=\"blank\" ></th> \n",
       "        <th class=\"blank\" ></th> \n",
       "        <th class=\"blank\" ></th> \n",
       "    </tr></thead> \n",
       "<tbody>    <tr> \n",
       "        <th id=\"T_7f65a652_1a6e_11e8_b173_784f436a9c9f\" class=\"row_heading level0 row0\" rowspan=2>female</th> \n",
       "        <th id=\"T_7f65a652_1a6e_11e8_b173_784f436a9c9f\" class=\"row_heading level1 row0\" >0</th> \n",
       "        <td id=\"T_7f65a652_1a6e_11e8_b173_784f436a9c9frow0_col0\" class=\"data row0 col0\" >3</td> \n",
       "        <td id=\"T_7f65a652_1a6e_11e8_b173_784f436a9c9frow0_col1\" class=\"data row0 col1\" >6</td> \n",
       "        <td id=\"T_7f65a652_1a6e_11e8_b173_784f436a9c9frow0_col2\" class=\"data row0 col2\" >72</td> \n",
       "        <td id=\"T_7f65a652_1a6e_11e8_b173_784f436a9c9frow0_col3\" class=\"data row0 col3\" >81</td> \n",
       "    </tr>    <tr> \n",
       "        <th id=\"T_7f65a652_1a6e_11e8_b173_784f436a9c9f\" class=\"row_heading level1 row1\" >1</th> \n",
       "        <td id=\"T_7f65a652_1a6e_11e8_b173_784f436a9c9frow1_col0\" class=\"data row1 col0\" >91</td> \n",
       "        <td id=\"T_7f65a652_1a6e_11e8_b173_784f436a9c9frow1_col1\" class=\"data row1 col1\" >70</td> \n",
       "        <td id=\"T_7f65a652_1a6e_11e8_b173_784f436a9c9frow1_col2\" class=\"data row1 col2\" >72</td> \n",
       "        <td id=\"T_7f65a652_1a6e_11e8_b173_784f436a9c9frow1_col3\" class=\"data row1 col3\" >233</td> \n",
       "    </tr>    <tr> \n",
       "        <th id=\"T_7f65a652_1a6e_11e8_b173_784f436a9c9f\" class=\"row_heading level0 row2\" rowspan=2>male</th> \n",
       "        <th id=\"T_7f65a652_1a6e_11e8_b173_784f436a9c9f\" class=\"row_heading level1 row2\" >0</th> \n",
       "        <td id=\"T_7f65a652_1a6e_11e8_b173_784f436a9c9frow2_col0\" class=\"data row2 col0\" >77</td> \n",
       "        <td id=\"T_7f65a652_1a6e_11e8_b173_784f436a9c9frow2_col1\" class=\"data row2 col1\" >91</td> \n",
       "        <td id=\"T_7f65a652_1a6e_11e8_b173_784f436a9c9frow2_col2\" class=\"data row2 col2\" >300</td> \n",
       "        <td id=\"T_7f65a652_1a6e_11e8_b173_784f436a9c9frow2_col3\" class=\"data row2 col3\" >468</td> \n",
       "    </tr>    <tr> \n",
       "        <th id=\"T_7f65a652_1a6e_11e8_b173_784f436a9c9f\" class=\"row_heading level1 row3\" >1</th> \n",
       "        <td id=\"T_7f65a652_1a6e_11e8_b173_784f436a9c9frow3_col0\" class=\"data row3 col0\" >45</td> \n",
       "        <td id=\"T_7f65a652_1a6e_11e8_b173_784f436a9c9frow3_col1\" class=\"data row3 col1\" >17</td> \n",
       "        <td id=\"T_7f65a652_1a6e_11e8_b173_784f436a9c9frow3_col2\" class=\"data row3 col2\" >47</td> \n",
       "        <td id=\"T_7f65a652_1a6e_11e8_b173_784f436a9c9frow3_col3\" class=\"data row3 col3\" >109</td> \n",
       "    </tr>    <tr> \n",
       "        <th id=\"T_7f65a652_1a6e_11e8_b173_784f436a9c9f\" class=\"row_heading level0 row4\" >All</th> \n",
       "        <th id=\"T_7f65a652_1a6e_11e8_b173_784f436a9c9f\" class=\"row_heading level1 row4\" ></th> \n",
       "        <td id=\"T_7f65a652_1a6e_11e8_b173_784f436a9c9frow4_col0\" class=\"data row4 col0\" >216</td> \n",
       "        <td id=\"T_7f65a652_1a6e_11e8_b173_784f436a9c9frow4_col1\" class=\"data row4 col1\" >184</td> \n",
       "        <td id=\"T_7f65a652_1a6e_11e8_b173_784f436a9c9frow4_col2\" class=\"data row4 col2\" >491</td> \n",
       "        <td id=\"T_7f65a652_1a6e_11e8_b173_784f436a9c9frow4_col3\" class=\"data row4 col3\" >891</td> \n",
       "    </tr></tbody> \n",
       "</table> "
      ],
      "text/plain": [
       "<pandas.io.formats.style.Styler at 0x11818b2e8>"
      ]
     },
     "execution_count": 8,
     "metadata": {},
     "output_type": "execute_result"
    }
   ],
   "source": [
    "# The bulk of the dead were men in Pclass 3\n",
    "pd.crosstab([df_train.Sex, df_train.Survived], df_train.Pclass, margins=True).style.background_gradient(cmap='winter_r')"
   ]
  },
  {
   "cell_type": "code",
   "execution_count": 9,
   "metadata": {},
   "outputs": [
    {
     "data": {
      "image/png": "[encoded data removed]",
      "text/plain": [
       "<matplotlib.figure.Figure at 0x1180cca58>"
      ]
     },
     "metadata": {},
     "output_type": "display_data"
    }
   ],
   "source": [
    "# More people embarked at S than the other ports and the majority of those embarking at S died\n",
    "sns.factorplot(x='Survived', col='Embarked', kind='count', data=df_train);"
   ]
  },
  {
   "cell_type": "code",
   "execution_count": 10,
   "metadata": {},
   "outputs": [
    {
     "data": {
      "image/png": "[encoded data removed]",
      "text/plain": [
       "<matplotlib.figure.Figure at 0x1181e7f60>"
      ]
     },
     "metadata": {},
     "output_type": "display_data"
    }
   ],
   "source": [
    "# Most of the men who died were in their prime, between 18-40\n",
    "grid = sns.FacetGrid(df_train, col='Survived', row='Sex', size=3.5, aspect=1.6, hue = 'Survived')\n",
    "grid.map(plt.hist, 'Age', alpha=.5, bins=20)\n",
    "grid.add_legend();"
   ]
  },
  {
   "cell_type": "markdown",
   "metadata": {},
   "source": [
    "Looking at the correlation matrix, Pclass and Fare are most clearly correlated with survival whilst Age, SibSp(no. siblings or spouse) and Parch (number of parents or children aboard) also show some correlation"
   ]
  },
  {
   "cell_type": "code",
   "execution_count": 11,
   "metadata": {},
   "outputs": [
    {
     "data": {
      "text/plain": [
       "<matplotlib.axes._subplots.AxesSubplot at 0x11bb40fd0>"
      ]
     },
     "execution_count": 11,
     "metadata": {},
     "output_type": "execute_result"
    },
    {
     "data": {
      "image/png": "[encoded data removed]",
      "text/plain": [
       "<matplotlib.figure.Figure at 0x11b9b8e80>"
      ]
     },
     "metadata": {},
     "output_type": "display_data"
    }
   ],
   "source": [
    "# df.corr() calculates Pearsons correlation coefficient by default for each feature pair and target-feature pair\n",
    "corr = df_train.corr()\n",
    "sns.heatmap(corr, cmap = 'RdBu_r', center = 0)"
   ]
  },
  {
   "cell_type": "markdown",
   "metadata": {},
   "source": [
    "So it looks like Sex, Pclass, Fare, Age, Parch, SibSp and Embarked are useful predictive features. \n",
    "It's possible that the Name and Cabin information could also be useful but work needs to be done to extract the useful content from these columns (i.e title and deck) and then encode them numerically."
   ]
  },
  {
   "cell_type": "markdown",
   "metadata": {},
   "source": [
    "# Data cleaning and feature engineering\n",
    "\n",
    "Here I will drop unwanted features, deal with missing values, encode categorical variables as numerics, assign continuous variables to discrete bins and generate new features. All transformations have to be carried out on both training and testing data in order to train the model and generate the predictions for Kaggle submission."
   ]
  },
  {
   "cell_type": "markdown",
   "metadata": {},
   "source": [
    "## Dealing with missing values and dropping unwanted features"
   ]
  },
  {
   "cell_type": "code",
   "execution_count": 12,
   "metadata": {
    "collapsed": true
   },
   "outputs": [],
   "source": [
    "# Drop the passenger ID and Ticket columns, they're unlikely to have any predictive utility\n",
    "\n",
    "df_train = df_train.drop(['PassengerId', 'Ticket'], axis = 1)\n",
    "df_test = df_test.drop(['Ticket'], axis = 1)"
   ]
  },
  {
   "cell_type": "markdown",
   "metadata": {},
   "source": [
    "Time to address the missing values in the Age column, which will caused problems for sklearn using .fillna(method =\"ffil\") substitutes the empty values with the last value and in this way doesn't effect the distribution, provided empty Age values aren't located next to one another"
   ]
  },
  {
   "cell_type": "code",
   "execution_count": 13,
   "metadata": {
    "collapsed": true
   },
   "outputs": [],
   "source": [
    "df_train = df_train.fillna(method='ffill')\n",
    "df_test = df_test.fillna(method='ffill')"
   ]
  },
  {
   "cell_type": "markdown",
   "metadata": {},
   "source": [
    "## Converting categorical features to numerical representations"
   ]
  },
  {
   "cell_type": "markdown",
   "metadata": {},
   "source": [
    "Let's convert the Sex column from categorical to a one-hot encoded numeric representation, as dtype int64, so that sklearn can work with it"
   ]
  },
  {
   "cell_type": "code",
   "execution_count": 14,
   "metadata": {
    "collapsed": true
   },
   "outputs": [],
   "source": [
    "df_train.Sex = df_train.Sex.map({'male':0, 'female':1}).astype(int)\n",
    "df_test.Sex = df_test.Sex.map({'male':0, 'female':1}).astype(int)"
   ]
  },
  {
   "cell_type": "code",
   "execution_count": 15,
   "metadata": {},
   "outputs": [
    {
     "data": {
      "text/plain": [
       "0    577\n",
       "1    314\n",
       "Name: Sex, dtype: int64"
      ]
     },
     "execution_count": 15,
     "metadata": {},
     "output_type": "execute_result"
    }
   ],
   "source": [
    "df_train.Sex.value_counts()"
   ]
  },
  {
   "cell_type": "markdown",
   "metadata": {},
   "source": [
    "Convert the embarked column to a numeric mapping"
   ]
  },
  {
   "cell_type": "code",
   "execution_count": 16,
   "metadata": {
    "collapsed": true
   },
   "outputs": [],
   "source": [
    "data = [df_train, df_test]\n",
    "\n",
    "for dataset in data:\n",
    "    dataset.Embarked = dataset.Embarked.map({'S':0, 'C':1, 'Q':2}).astype(int)"
   ]
  },
  {
   "cell_type": "markdown",
   "metadata": {},
   "source": [
    "## Assigning continuous features to discrete bins"
   ]
  },
  {
   "cell_type": "markdown",
   "metadata": {},
   "source": [
    "Now to decide upon suitable Age bins I'll have a look at the Age distribution"
   ]
  },
  {
   "cell_type": "code",
   "execution_count": 17,
   "metadata": {},
   "outputs": [
    {
     "data": {
      "text/plain": [
       "<matplotlib.axes._subplots.AxesSubplot at 0x11b54e7b8>"
      ]
     },
     "execution_count": 17,
     "metadata": {},
     "output_type": "execute_result"
    },
    {
     "data": {
      "image/png": "[encoded data removed]",
      "text/plain": [
       "<matplotlib.figure.Figure at 0x11b9a0ac8>"
      ]
     },
     "metadata": {},
     "output_type": "display_data"
    }
   ],
   "source": [
    "plt.subplots(figsize=(10,7))\n",
    "plt.xticks(np.arange(min(df_train.Age), max(df_train.Age)+1, 10.0))\n",
    "sns.distplot(df_train.Age)"
   ]
  },
  {
   "cell_type": "markdown",
   "metadata": {},
   "source": [
    "The Age feature is somewhat normally distributed/slightly bimodal so I'll just assign the ages to 8 evenly spaced bins"
   ]
  },
  {
   "cell_type": "code",
   "execution_count": 18,
   "metadata": {
    "collapsed": true
   },
   "outputs": [],
   "source": [
    "data = [df_train, df_test]\n",
    "\n",
    "for df in data:\n",
    "    df['Age_bin']=np.nan\n",
    "    for i in range(8,0,-1):\n",
    "        df.loc[df['Age'] <= i*10, 'Age_bin'] = i"
   ]
  },
  {
   "cell_type": "code",
   "execution_count": 19,
   "metadata": {
    "collapsed": true
   },
   "outputs": [],
   "source": [
    "data = [df_train, df_test]\n",
    "\n",
    "for df in data:\n",
    "    df_train.Age_bin = df_train.Age_bin.astype(int)\n",
    "    df_test.Age_bin = df_test.Age_bin.astype(int)"
   ]
  },
  {
   "cell_type": "code",
   "execution_count": 20,
   "metadata": {},
   "outputs": [
    {
     "data": {
      "text/plain": [
       "<matplotlib.axes._subplots.AxesSubplot at 0x11c087240>"
      ]
     },
     "execution_count": 20,
     "metadata": {},
     "output_type": "execute_result"
    },
    {
     "data": {
      "image/png": "[encoded data removed]",
      "text/plain": [
       "<matplotlib.figure.Figure at 0x11c08d9e8>"
      ]
     },
     "metadata": {},
     "output_type": "display_data"
    }
   ],
   "source": [
    "sns.distplot(df_train.Age_bin)"
   ]
  },
  {
   "cell_type": "markdown",
   "metadata": {},
   "source": [
    "Time to assign the Fare values to suitable bins"
   ]
  },
  {
   "cell_type": "code",
   "execution_count": 21,
   "metadata": {},
   "outputs": [
    {
     "data": {
      "text/plain": [
       "<matplotlib.axes._subplots.AxesSubplot at 0x11b909ac8>"
      ]
     },
     "execution_count": 21,
     "metadata": {},
     "output_type": "execute_result"
    },
    {
     "data": {
      "image/png": "[encoded data removed]",
      "text/plain": [
       "<matplotlib.figure.Figure at 0x1110e0a58>"
      ]
     },
     "metadata": {},
     "output_type": "display_data"
    }
   ],
   "source": [
    "# Plot the Fares to take a look at their distributions\n",
    "plt.subplots(figsize=(30,10))\n",
    "plt.xticks(np.arange(min(df_train.Fare), max(df_train.Fare)+1, 10.0))\n",
    "sns.distplot(df_train.Fare)"
   ]
  },
  {
   "cell_type": "code",
   "execution_count": 22,
   "metadata": {
    "collapsed": true
   },
   "outputs": [],
   "source": [
    "# Based on the distribution of the Fares, assign them to the following bins corresponding to roughly each peak in \n",
    "# the distplot kde profile (gaussian kernel density estimate) in an attempt to capture the distribution\n",
    "data = [df_train, df_test]\n",
    "\n",
    "for dataset in data:\n",
    "    dataset.loc[ dataset['Fare'] <= 5, 'Fare'] = 0\n",
    "    dataset.loc[(dataset['Fare'] > 5) & (dataset['Fare'] <= 10), 'Fare'] = 1\n",
    "    dataset.loc[(dataset['Fare'] > 10) & (dataset['Fare'] <= 20), 'Fare'] = 2\n",
    "    dataset.loc[(dataset['Fare'] > 20) & (dataset['Fare'] <= 40), 'Fare']   = 3\n",
    "    dataset.loc[(dataset['Fare'] > 40) & (dataset['Fare'] <= 99), 'Fare']   = 4\n",
    "    dataset.loc[(dataset['Fare'] > 99) & (dataset['Fare'] <= 180), 'Fare']   = 5\n",
    "    dataset.loc[(dataset['Fare'] > 180) & (dataset['Fare'] <= 280), 'Fare']   = 6\n",
    "    dataset.loc[ dataset['Fare'] > 280, 'Fare'] = 7\n",
    "    dataset['Fare'] = dataset['Fare'].astype(int)"
   ]
  },
  {
   "cell_type": "markdown",
   "metadata": {},
   "source": [
    "## Extracting new features"
   ]
  },
  {
   "cell_type": "markdown",
   "metadata": {},
   "source": [
    "Use regular expressions to extract the Title and deck number from the Name and Cabin columns respectively and assign them one hot encodings"
   ]
  },
  {
   "cell_type": "code",
   "execution_count": 23,
   "metadata": {
    "collapsed": true
   },
   "outputs": [],
   "source": [
    "data = [df_train, df_test]\n",
    "titles = {\"Mr\": 1, \"Miss\": 2, \"Mrs\": 3, \"Master\": 4, \"Rare\": 5}\n",
    "\n",
    "for dataset in data:\n",
    "    # use the regex ' ([A-Za-z]+)\\.' to extract the titles from the names\n",
    "    dataset['Title'] = dataset.Name.str.extract(' ([A-Za-z]+)\\.', expand=False)\n",
    "    \n",
    "    # Assign rare titles as Rare and convert Mme and Ms to the more common Mrs and Miss \n",
    "    dataset['Title'] = dataset['Title'].replace(['Lady', 'Countess','Capt', 'Col','Don', 'Dr',\n",
    "                                            'Major', 'Rev', 'Sir', 'Jonkheer', 'Dona'], 'Rare')\n",
    "    dataset['Title'] = dataset['Title'].replace('Mlle', 'Miss')\n",
    "    dataset['Title'] = dataset['Title'].replace('Ms', 'Miss')\n",
    "    dataset['Title'] = dataset['Title'].replace('Mme', 'Mrs')\n",
    "    # convert titles into numbers\n",
    "    dataset['Title'] = dataset['Title'].map(titles)\n",
    "    # fill NaN with 0 to keep the dimensions the same as the other features\n",
    "    dataset['Title'] = dataset['Title'].fillna(0)\n",
    "\n",
    "# Extract the Deck feature from the Cabin column    \n",
    "    \n",
    "deck = {'A':1, 'B':2, 'C':3, 'D':4, 'E':5,'F':6,'G':7,'U':8}    \n",
    "    \n",
    "for dataset in data:\n",
    "    dataset['Cabin'] = dataset['Cabin'].fillna('U0')\n",
    "    dataset['Deck'] = dataset['Cabin'].map(lambda x: re.compile('([a-zA-Z]+)').search(x).group())\n",
    "    dataset['Deck'] = dataset['Deck'].map(deck)\n",
    "    dataset['Deck'] = dataset['Deck'].fillna(0)\n",
    "    dataset['Deck'] = dataset['Deck'].astype(int)"
   ]
  },
  {
   "cell_type": "markdown",
   "metadata": {},
   "source": [
    "Create a not_alone binary feature. Perhaps those with families were more likely to survive, as Parch and SibSp were both positively correlated with survival."
   ]
  },
  {
   "cell_type": "code",
   "execution_count": 24,
   "metadata": {
    "collapsed": true
   },
   "outputs": [],
   "source": [
    "data = [df_train, df_test]\n",
    "for dataset in data:\n",
    "    dataset['Relatives'] = dataset['SibSp'] + dataset['Parch']\n",
    "    dataset.loc[dataset['Relatives']>0, 'not_alone'] = 0\n",
    "    dataset.loc[dataset['Relatives']== 0 , 'not_alone'] = 1\n",
    "    dataset['not_alone'] = dataset['not_alone'].astype(int)"
   ]
  },
  {
   "cell_type": "markdown",
   "metadata": {},
   "source": [
    "Males in Pclass 3 didn't fair well on the Titanic based on the plots above, so I'll generate an indicator variable to capture this correlation."
   ]
  },
  {
   "cell_type": "code",
   "execution_count": 25,
   "metadata": {
    "collapsed": true
   },
   "outputs": [],
   "source": [
    "data = [df_train, df_test]\n",
    "\n",
    "for dataset in data:\n",
    "    dataset['Male_P3'] = (dataset['Sex'] == 0) & (dataset['Pclass'] == 3).astype(int)\n"
   ]
  },
  {
   "cell_type": "markdown",
   "metadata": {},
   "source": [
    "Multiplying features together, generates new features which may be useful. Age and Pclass showed the same correlation with Survival, perhaps multiplying them together will amplify their contribution to the classifers I'm about to train"
   ]
  },
  {
   "cell_type": "code",
   "execution_count": 26,
   "metadata": {
    "collapsed": true
   },
   "outputs": [],
   "source": [
    "data = [df_train, df_test]\n",
    "for dataset in data:\n",
    "    dataset['Age_Class']= dataset['Age_bin']* dataset['Pclass']"
   ]
  },
  {
   "cell_type": "markdown",
   "metadata": {},
   "source": [
    "Fare per person is an additional socio-economic indicator derived from the Fare and Relatives features, which correlates positively with Survival"
   ]
  },
  {
   "cell_type": "code",
   "execution_count": 27,
   "metadata": {
    "collapsed": true
   },
   "outputs": [],
   "source": [
    "for dataset in data:\n",
    "    dataset['Fare_Per_Person'] = dataset['Fare']/(dataset['Relatives']+1)\n",
    "    dataset['Fare_Per_Person'] = dataset['Fare_Per_Person'].astype(int)"
   ]
  },
  {
   "cell_type": "code",
   "execution_count": 28,
   "metadata": {
    "collapsed": true
   },
   "outputs": [],
   "source": [
    "# Now drop the old continuous or text features which aren't required\n",
    "data = [df_train, df_test]\n",
    "\n",
    "for dataset in data:\n",
    "    dataset.drop(['Age','Name', 'Cabin'],axis=1,inplace=True)"
   ]
  },
  {
   "cell_type": "markdown",
   "metadata": {},
   "source": [
    "Plotting the correlation matrix now that feature engineering is complete shows how much additional predictive signal we have generated ready for modelling"
   ]
  },
  {
   "cell_type": "code",
   "execution_count": 29,
   "metadata": {},
   "outputs": [
    {
     "data": {
      "text/plain": [
       "<matplotlib.axes._subplots.AxesSubplot at 0x1181e6b70>"
      ]
     },
     "execution_count": 29,
     "metadata": {},
     "output_type": "execute_result"
    },
    {
     "data": {
      "image/png": "[encoded data removed]",
      "text/plain": [
       "<matplotlib.figure.Figure at 0x1181e72b0>"
      ]
     },
     "metadata": {},
     "output_type": "display_data"
    }
   ],
   "source": [
    "plt.subplots(figsize=(20,10))\n",
    "corr = df_train.corr()\n",
    "sns.heatmap(corr, cmap = 'RdBu_r', center = 0)"
   ]
  },
  {
   "cell_type": "markdown",
   "metadata": {},
   "source": [
    "# Training ML algorithms to predict survival with scikit-learn"
   ]
  },
  {
   "cell_type": "code",
   "execution_count": 30,
   "metadata": {
    "collapsed": true
   },
   "outputs": [],
   "source": [
    "# Prepare dataframes for sklearn, so that the feature columns and target label are in separate dataframes\n",
    "X_training = df_train.drop('Survived', axis = 1).copy()\n",
    "y_training = df_train.Survived"
   ]
  },
  {
   "cell_type": "markdown",
   "metadata": {},
   "source": [
    "Time to raid the sklearn library for some suitable classification algorithms, training tools and validatory metrics. For the binary classification task of predicting survival based on several features we could try some classic classifiers such as: support vector classifier, decision tree, random forests, K nearest neighbors and logistic regression.\n",
    "\n",
    "Also worth trying are classifiers from the ensemble module of sklearn which implement tree \"boosting\", such as: adaptive boosting (AdaBoost), gradient boosting, exta trees and extreme gradient boosting (XGBoost) classifiers. "
   ]
  },
  {
   "cell_type": "code",
   "execution_count": 31,
   "metadata": {
    "collapsed": true
   },
   "outputs": [],
   "source": [
    "from sklearn.svm import SVC\n",
    "from sklearn.tree import DecisionTreeClassifier\n",
    "from sklearn.ensemble import RandomForestClassifier, AdaBoostClassifier, ExtraTreesClassifier, GradientBoostingClassifier\n",
    "\n",
    "from sklearn.neighbors import KNeighborsClassifier\n",
    "from sklearn.linear_model import LogisticRegression\n",
    "from sklearn.model_selection import train_test_split, cross_val_score, GridSearchCV, learning_curve, StratifiedShuffleSplit\n",
    "\n",
    "from xgboost.sklearn import XGBClassifier\n",
    "from sklearn.metrics import accuracy_score, confusion_matrix\n"
   ]
  },
  {
   "cell_type": "markdown",
   "metadata": {},
   "source": [
    "I could perform a train test split of the training dataframe using train_test_split...."
   ]
  },
  {
   "cell_type": "code",
   "execution_count": 32,
   "metadata": {
    "collapsed": true
   },
   "outputs": [],
   "source": [
    "X_train, X_test, y_train, y_test = train_test_split(df_train.drop('Survived',axis=1),\n",
    "                                                    df_train['Survived'], test_size=0.2, random_state=2)"
   ]
  },
  {
   "cell_type": "markdown",
   "metadata": {},
   "source": [
    "...then train each classifier using the X_train and y_train subsets..."
   ]
  },
  {
   "cell_type": "code",
   "execution_count": 33,
   "metadata": {},
   "outputs": [
    {
     "data": {
      "text/plain": [
       "RandomForestClassifier(bootstrap=True, class_weight=None, criterion='gini',\n",
       "            max_depth=None, max_features='auto', max_leaf_nodes=None,\n",
       "            min_impurity_split=1e-07, min_samples_leaf=1,\n",
       "            min_samples_split=2, min_weight_fraction_leaf=0.0,\n",
       "            n_estimators=10, n_jobs=1, oob_score=False, random_state=None,\n",
       "            verbose=0, warm_start=False)"
      ]
     },
     "execution_count": 33,
     "metadata": {},
     "output_type": "execute_result"
    }
   ],
   "source": [
    "rfc = RandomForestClassifier()\n",
    "\n",
    "rfc.fit(X_train, y_train)"
   ]
  },
  {
   "cell_type": "markdown",
   "metadata": {},
   "source": [
    "... and then assess the performance of the classifier against the test set, which the classifier hasn't been trained on, hopefully giving a sensible estimate of the classifier's out of sample performance via sklearn's accuracy score, which is just the fraction of correct predictions."
   ]
  },
  {
   "cell_type": "markdown",
   "metadata": {},
   "source": [
    "![accuracy_score](http://scikit-learn.org/stable/_images/math/cd4bea15b385d15cceb8e24f68976da7d8510290.png)"
   ]
  },
  {
   "cell_type": "code",
   "execution_count": 34,
   "metadata": {},
   "outputs": [
    {
     "data": {
      "text/plain": [
       "0.79329608938547491"
      ]
     },
     "execution_count": 34,
     "metadata": {},
     "output_type": "execute_result"
    }
   ],
   "source": [
    "rfc_prediction = rfc.predict(X_test) \n",
    "accuracy_score(rfc_prediction, y_test)"
   ]
  },
  {
   "cell_type": "markdown",
   "metadata": {},
   "source": [
    "## K-fold cross validation to train the optimal classification algorithm"
   ]
  },
  {
   "cell_type": "markdown",
   "metadata": {},
   "source": [
    "However, in order to make the most out of the training data available, maximising the amount of signal gathered from each feature, a better way to train and assess the classifier is via cross validation, a process of iteratively splitting the training data into different training and testing sets so that all of the data is used to both train and test the classifier, taking an average of the performance to give a more realistic impression of the model's performance. This also provides a more reliable accuracy metric by which to compare rival algorithms on a given problem.\n",
    "\n",
    "The image below illustrates the process of splitting a dataset into K-folds (K = 5) for cross validation."
   ]
  },
  {
   "cell_type": "markdown",
   "metadata": {},
   "source": [
    "![cv](http://tomaszkacmajor.pl/wp-content/uploads/2016/05/cross-validation.png)"
   ]
  },
  {
   "cell_type": "markdown",
   "metadata": {},
   "source": [
    "https://www.edureka.co/blog/implementation-of-decision-tree/"
   ]
  },
  {
   "cell_type": "markdown",
   "metadata": {},
   "source": [
    "To ensure the cross validation folds are not derived from chunks of the dataset which are unrepresentative of the distributions seen in the dataset as a whole, shuffling and stratification can be specified in the cross validation options."
   ]
  },
  {
   "cell_type": "code",
   "execution_count": 35,
   "metadata": {
    "collapsed": true
   },
   "outputs": [],
   "source": [
    "# stratified shuffle split of the data into 10 folds, with 20% of the data used in testing\n",
    "sss = StratifiedShuffleSplit(n_splits=10, test_size=0.2, random_state=2)"
   ]
  },
  {
   "cell_type": "markdown",
   "metadata": {},
   "source": [
    "Using the cell below I can perform the same training and testing as outlined above using train_test_split but instead training and testing on all available data via cross validation, whilst testing multiple classifiers in parallel."
   ]
  },
  {
   "cell_type": "code",
   "execution_count": 36,
   "metadata": {},
   "outputs": [
    {
     "data": {
      "text/plain": [
       "<matplotlib.axes._subplots.AxesSubplot at 0x11bc7d9e8>"
      ]
     },
     "execution_count": 36,
     "metadata": {},
     "output_type": "execute_result"
    },
    {
     "data": {
      "image/png": "[encoded data removed]",
      "text/plain": [
       "<matplotlib.figure.Figure at 0x11b8f6be0>"
      ]
     },
     "metadata": {},
     "output_type": "display_data"
    }
   ],
   "source": [
    "random_state=2\n",
    "\n",
    "# store all the classifiers in a list\n",
    "classifiers=[]\n",
    "classifiers.append(SVC(random_state=random_state))\n",
    "classifiers.append(DecisionTreeClassifier(random_state=random_state))\n",
    "classifiers.append(RandomForestClassifier(random_state=random_state))\n",
    "classifiers.append(KNeighborsClassifier())\n",
    "classifiers.append(LogisticRegression(random_state=random_state))\n",
    "classifiers.append(AdaBoostClassifier(DecisionTreeClassifier(random_state=random_state),random_state=random_state))\n",
    "classifiers.append(ExtraTreesClassifier(random_state=random_state))\n",
    "classifiers.append(GradientBoostingClassifier(random_state=random_state))\n",
    "classifiers.append(XGBClassifier(random_state=random_state))\n",
    "\n",
    "# store the cross validation accuracy results in a list\n",
    "cv_results=[]\n",
    "for classifier in classifiers:\n",
    "    cv_results.append(cross_val_score(estimator=classifier,X=X_training,y=y_training,\n",
    "                                      cv=sss,scoring='accuracy', n_jobs=-1))\n",
    "\n",
    "# store the mean accuracy and standard deviation of the accuracy for each cross validation fold in lists    \n",
    "cv_means=[]\n",
    "cv_std=[]\n",
    "for cv_result in cv_results:\n",
    "    cv_means.append(cv_result.mean())\n",
    "    cv_std.append(cv_result.std())\n",
    "\n",
    "# Combine the results lists in a dataframe\n",
    "cv_results=pd.DataFrame({'CV_mean':cv_means , 'CV_std':cv_std , 'Algorithm':['SVC','DTC','RFC','KNN','LR',\n",
    "                                                                             'ADA','XT','GBC','XGB']})\n",
    "# sort the results by score\n",
    "cv_results = cv_results.sort_values('CV_mean',ascending=False)\n",
    "\n",
    "# plot the values for swift visual assessment of classifier performance\n",
    "plt.subplots(figsize=(8,5))\n",
    "sns.barplot('Algorithm','CV_mean',data=cv_results)"
   ]
  },
  {
   "cell_type": "markdown",
   "metadata": {},
   "source": [
    "Looks like XGBoost gives the best mean accuracy score from cross validation"
   ]
  },
  {
   "cell_type": "code",
   "execution_count": 37,
   "metadata": {},
   "outputs": [
    {
     "data": {
      "text/html": [
       "<div>\n",
       "<style>\n",
       "    .dataframe thead tr:only-child th {\n",
       "        text-align: right;\n",
       "    }\n",
       "\n",
       "    .dataframe thead th {\n",
       "        text-align: left;\n",
       "    }\n",
       "\n",
       "    .dataframe tbody tr th {\n",
       "        vertical-align: top;\n",
       "    }\n",
       "</style>\n",
       "<table border=\"1\" class=\"dataframe\">\n",
       "  <thead>\n",
       "    <tr style=\"text-align: right;\">\n",
       "      <th></th>\n",
       "      <th>Algorithm</th>\n",
       "      <th>CV_mean</th>\n",
       "      <th>CV_std</th>\n",
       "    </tr>\n",
       "  </thead>\n",
       "  <tbody>\n",
       "    <tr>\n",
       "      <th>8</th>\n",
       "      <td>XGB</td>\n",
       "      <td>0.832961</td>\n",
       "      <td>0.012354</td>\n",
       "    </tr>\n",
       "    <tr>\n",
       "      <th>7</th>\n",
       "      <td>GBC</td>\n",
       "      <td>0.828492</td>\n",
       "      <td>0.014579</td>\n",
       "    </tr>\n",
       "    <tr>\n",
       "      <th>4</th>\n",
       "      <td>LR</td>\n",
       "      <td>0.818994</td>\n",
       "      <td>0.014177</td>\n",
       "    </tr>\n",
       "    <tr>\n",
       "      <th>6</th>\n",
       "      <td>XT</td>\n",
       "      <td>0.809497</td>\n",
       "      <td>0.023892</td>\n",
       "    </tr>\n",
       "    <tr>\n",
       "      <th>0</th>\n",
       "      <td>SVC</td>\n",
       "      <td>0.808939</td>\n",
       "      <td>0.026180</td>\n",
       "    </tr>\n",
       "    <tr>\n",
       "      <th>2</th>\n",
       "      <td>RFC</td>\n",
       "      <td>0.800559</td>\n",
       "      <td>0.017137</td>\n",
       "    </tr>\n",
       "    <tr>\n",
       "      <th>1</th>\n",
       "      <td>DTC</td>\n",
       "      <td>0.787709</td>\n",
       "      <td>0.023702</td>\n",
       "    </tr>\n",
       "    <tr>\n",
       "      <th>5</th>\n",
       "      <td>ADA</td>\n",
       "      <td>0.778771</td>\n",
       "      <td>0.019704</td>\n",
       "    </tr>\n",
       "    <tr>\n",
       "      <th>3</th>\n",
       "      <td>KNN</td>\n",
       "      <td>0.758659</td>\n",
       "      <td>0.023007</td>\n",
       "    </tr>\n",
       "  </tbody>\n",
       "</table>\n",
       "</div>"
      ],
      "text/plain": [
       "  Algorithm   CV_mean    CV_std\n",
       "8       XGB  0.832961  0.012354\n",
       "7       GBC  0.828492  0.014579\n",
       "4        LR  0.818994  0.014177\n",
       "6        XT  0.809497  0.023892\n",
       "0       SVC  0.808939  0.026180\n",
       "2       RFC  0.800559  0.017137\n",
       "1       DTC  0.787709  0.023702\n",
       "5       ADA  0.778771  0.019704\n",
       "3       KNN  0.758659  0.023007"
      ]
     },
     "execution_count": 37,
     "metadata": {},
     "output_type": "execute_result"
    }
   ],
   "source": [
    "cv_results"
   ]
  },
  {
   "cell_type": "markdown",
   "metadata": {},
   "source": [
    "# What is XGBoost and how does it work?"
   ]
  },
  {
   "cell_type": "markdown",
   "metadata": {},
   "source": [
    "Decision tree classifiers are supervised machine learning algorithms, which are trained by maximising the separation of classes achieved by decision bounderies in labelled data and thereby allow you to classify previously unseen data. XGBoost is a **tree ensemble** based classification algorithm which uses many shallow decision trees to classify the input features, which individually are only slightly better than random guessing. These are  known as **weak learners** and have **high bias and low variance**. The predictions of these weak learners are summed to give an overall prediction for a given test example's set of feature values, in a similar manner to a random forest classifier but with much shallower trees. The tree boosting of XGBoost refers to the **minimisation of the bias** of the model, by optimisation of the individual tree structures (number of leaves) over many boosting steps, with each step attempting to add a new tree to the model.\n",
    "\n",
    "TL;DR\n",
    "\n",
    "XGBoost is a tree boosting alogrithm using ensembles of shallow decision trees."
   ]
  },
  {
   "cell_type": "markdown",
   "metadata": {},
   "source": [
    "![decisiontreeforest](http://cdn-ak.f.st-hatena.com/images/fotolife/T/TJO/20150603/20150603222152.png)"
   ]
  },
  {
   "cell_type": "markdown",
   "metadata": {},
   "source": [
    "http://tjo-en.hatenablog.com/entry/2015/06/04/190000"
   ]
  },
  {
   "cell_type": "markdown",
   "metadata": {},
   "source": [
    "The weak learners work something like the diagram from the XGBoost documentation below. A given tree in the model will be optimised to draw decision boundaries through distributions of the features I've engineered, which maximise the separation of the Survived 0 and 1 classes. The scores for a given terminal node, will then be based on the probability that an example satisfying that criteria/threshold, belongs to either the Survived = 0 or Survived = 1 class. The scores for all the trees are combined to generate a prediction for a given testing example's set of feature values. The boosting procedure optimises the number of trees, leaf scores and structure of these trees, to minimise the classifier's bias and maximise it's predictive accuracy."
   ]
  },
  {
   "cell_type": "markdown",
   "metadata": {},
   "source": [
    "![weaklearners](https://raw.githubusercontent.com/dmlc/web-data/master/xgboost/model/twocart.png)"
   ]
  },
  {
   "cell_type": "markdown",
   "metadata": {},
   "source": [
    "A detailed description of XGBoost is given here http://xgboost.readthedocs.io/en/latest/model.html"
   ]
  },
  {
   "cell_type": "code",
   "execution_count": 38,
   "metadata": {},
   "outputs": [
    {
     "data": {
      "text/plain": [
       "XGBClassifier(base_score=0.5, booster='gbtree', colsample_bylevel=1,\n",
       "       colsample_bytree=1, gamma=0, learning_rate=0.1, max_delta_step=0,\n",
       "       max_depth=3, min_child_weight=1, missing=None, n_estimators=100,\n",
       "       n_jobs=1, nthread=None, objective='binary:logistic', random_state=2,\n",
       "       reg_alpha=0, reg_lambda=1, scale_pos_weight=1, seed=None,\n",
       "       silent=True, subsample=1)"
      ]
     },
     "execution_count": 38,
     "metadata": {},
     "output_type": "execute_result"
    }
   ],
   "source": [
    "xgbc = XGBClassifier(random_state=random_state)\n",
    "xgbc.fit(X_training, y_training)"
   ]
  },
  {
   "cell_type": "code",
   "execution_count": 39,
   "metadata": {},
   "outputs": [
    {
     "name": "stdout",
     "output_type": "stream",
     "text": [
      "Scores: [ 0.84357542  0.82122905  0.82681564  0.8603352   0.83240223  0.82122905\n",
      "  0.83240223  0.83798883  0.81564246  0.83798883]\n",
      "Mean: 0.832960893855\n",
      "Standard Deviation: 0.0123538236802\n"
     ]
    }
   ],
   "source": [
    "scores = cross_val_score(xgbc, X_training, y_training, cv=sss, scoring = \"accuracy\")\n",
    "\n",
    "print(\"Scores:\", scores)\n",
    "print(\"Mean:\", scores.mean())\n",
    "print(\"Standard Deviation:\", scores.std())\n"
   ]
  },
  {
   "cell_type": "markdown",
   "metadata": {},
   "source": [
    "The XGBoost classifier has a mean CV accuracy of 83.07% on the training data with default parameters. This can be improved by tweaking features and model parameters."
   ]
  },
  {
   "cell_type": "markdown",
   "metadata": {},
   "source": [
    "## Feature importance\n",
    "\n",
    "Which of the features I engineered is XGBoost using most effectively to generate trees which minimise it's error function?"
   ]
  },
  {
   "cell_type": "code",
   "execution_count": 40,
   "metadata": {
    "collapsed": true
   },
   "outputs": [],
   "source": [
    "importances = pd.DataFrame({'feature':X_training.columns,'importance':np.round(xgbc.feature_importances_,3)})\n",
    "\n",
    "importances = importances.sort_values('importance',ascending=False).set_index('feature')\n"
   ]
  },
  {
   "cell_type": "code",
   "execution_count": 41,
   "metadata": {
    "scrolled": false
   },
   "outputs": [
    {
     "data": {
      "text/plain": [
       "<matplotlib.axes._subplots.AxesSubplot at 0x11de000f0>"
      ]
     },
     "execution_count": 41,
     "metadata": {},
     "output_type": "execute_result"
    },
    {
     "data": {
      "image/png": "[encoded data removed]",
      "text/plain": [
       "<matplotlib.figure.Figure at 0x11ddcb5f8>"
      ]
     },
     "metadata": {},
     "output_type": "display_data"
    }
   ],
   "source": [
    "importances.plot.bar(figsize=(10,5))"
   ]
  },
  {
   "cell_type": "markdown",
   "metadata": {},
   "source": [
    "If I drop a few of the less important features will the cv accuracy increase? Will I increase the overall signal to noise of my predictive features?"
   ]
  },
  {
   "cell_type": "code",
   "execution_count": 42,
   "metadata": {
    "collapsed": true
   },
   "outputs": [],
   "source": [
    "X_training = X_training.drop(['not_alone', 'Male_P3','Parch'], axis=1)"
   ]
  },
  {
   "cell_type": "code",
   "execution_count": 43,
   "metadata": {},
   "outputs": [
    {
     "data": {
      "text/plain": [
       "XGBClassifier(base_score=0.5, booster='gbtree', colsample_bylevel=1,\n",
       "       colsample_bytree=1, gamma=0, learning_rate=0.1, max_delta_step=0,\n",
       "       max_depth=3, min_child_weight=1, missing=None, n_estimators=100,\n",
       "       n_jobs=1, nthread=None, objective='binary:logistic', random_state=2,\n",
       "       reg_alpha=0, reg_lambda=1, scale_pos_weight=1, seed=None,\n",
       "       silent=True, subsample=1)"
      ]
     },
     "execution_count": 43,
     "metadata": {},
     "output_type": "execute_result"
    }
   ],
   "source": [
    "xgbc = XGBClassifier(random_state=random_state)\n",
    "xgbc.fit(X_training, y_training)"
   ]
  },
  {
   "cell_type": "code",
   "execution_count": 44,
   "metadata": {},
   "outputs": [
    {
     "name": "stdout",
     "output_type": "stream",
     "text": [
      "Scores: [ 0.84916201  0.82122905  0.82681564  0.8547486   0.83798883  0.82122905\n",
      "  0.83240223  0.83240223  0.81005587  0.8547486 ]\n",
      "Mean: 0.834078212291\n",
      "Standard Deviation: 0.0143630839466\n"
     ]
    }
   ],
   "source": [
    "scores = cross_val_score(xgbc, X_training, y_training, cv=sss, scoring = \"accuracy\")\n",
    "\n",
    "print(\"Scores:\", scores)\n",
    "print(\"Mean:\", scores.mean())\n",
    "print(\"Standard Deviation:\", scores.std())\n"
   ]
  },
  {
   "cell_type": "markdown",
   "metadata": {},
   "source": [
    "Looks like dropping the **not_alone, Male_P3 and Parch** features improved the mean CV accuracy score slightly. "
   ]
  },
  {
   "cell_type": "markdown",
   "metadata": {},
   "source": [
    "## Hyperparameter tuning with GridSearch CV\n",
    "Now to reduce overfitting by tuning the model parameters relevant to model complexity "
   ]
  },
  {
   "cell_type": "code",
   "execution_count": 45,
   "metadata": {},
   "outputs": [
    {
     "data": {
      "text/plain": [
       "{'gamma': 2, 'max_depth': 8, 'min_child_weight': 2}"
      ]
     },
     "execution_count": 45,
     "metadata": {},
     "output_type": "execute_result"
    }
   ],
   "source": [
    "# GridSearch CV automatically tests a series of model parameters through the cross validation specified and outputs\n",
    "# the parameters which generated the best cross validation score\n",
    "\n",
    "params = {\n",
    "          'max_depth' : range(3,10,1),       # maximum depth of the trees - deeper = more likely to overfit\n",
    "          'min_child_weight' : range(1,5,1), # minimum child weight - The lower the more likely to overfit\n",
    "          'gamma' : [1,2,3,4],               # gamma - regularisation parameter\n",
    "         }\n",
    "\n",
    "xgbc = XGBClassifier()\n",
    "\n",
    "clf = GridSearchCV(estimator=xgbc, param_grid=params, cv = sss, n_jobs=-1)\n",
    "\n",
    "clf.fit(X_training, y_training)\n",
    "\n",
    "clf.best_params_"
   ]
  },
  {
   "cell_type": "code",
   "execution_count": 46,
   "metadata": {},
   "outputs": [
    {
     "data": {
      "text/plain": [
       "XGBClassifier(base_score=0.5, booster='gbtree', colsample_bylevel=1,\n",
       "       colsample_bytree=1, gamma=2, learning_rate=0.1, max_delta_step=0,\n",
       "       max_depth=8, min_child_weight=2, missing=None, n_estimators=100,\n",
       "       n_jobs=1, nthread=None, objective='binary:logistic', random_state=2,\n",
       "       reg_alpha=0, reg_lambda=1, scale_pos_weight=1, seed=None,\n",
       "       silent=True, subsample=1)"
      ]
     },
     "execution_count": 46,
     "metadata": {},
     "output_type": "execute_result"
    }
   ],
   "source": [
    "xgbc = XGBClassifier(random_state=random_state, gamma = 2, max_depth = 8, min_child_weight = 2)\n",
    "xgbc.fit(X_training, y_training)"
   ]
  },
  {
   "cell_type": "code",
   "execution_count": 47,
   "metadata": {},
   "outputs": [
    {
     "name": "stdout",
     "output_type": "stream",
     "text": [
      "Scores: [ 0.84916201  0.84916201  0.82681564  0.86592179  0.8603352   0.82122905\n",
      "  0.82122905  0.87709497  0.81005587  0.83798883]\n",
      "Mean: 0.841899441341\n",
      "Standard Deviation: 0.0209105779578\n"
     ]
    }
   ],
   "source": [
    "scores = cross_val_score(xgbc, X_training, y_training, cv=sss, scoring = \"accuracy\")\n",
    "\n",
    "print(\"Scores:\", scores)\n",
    "print(\"Mean:\", scores.mean())\n",
    "print(\"Standard Deviation:\", scores.std())"
   ]
  },
  {
   "cell_type": "markdown",
   "metadata": {},
   "source": [
    "So parameter tuning has also improved the mean cross validation accuracy of the classifier slightly. I can now generate some plots and other metrics to get a sense of how well the XGBoost classifier is working."
   ]
  },
  {
   "cell_type": "markdown",
   "metadata": {},
   "source": [
    "# Model evaluation"
   ]
  },
  {
   "cell_type": "markdown",
   "metadata": {},
   "source": [
    "## Learning curves: bias vs variance\n",
    "\n",
    "\n",
    "Error = Bias + Variance. Bias being the difference between predicitions and target labels and variance being the spread of predictions from each other.  Learning curves of error vs training set size can be used to assess the **bias and variance** of your model"
   ]
  },
  {
   "cell_type": "markdown",
   "metadata": {},
   "source": [
    "![biasvariance](https://i.imgur.com/I1rzmAY.png?1)"
   ]
  },
  {
   "cell_type": "markdown",
   "metadata": {},
   "source": [
    "Andrew Ng Stanford ML course slides"
   ]
  },
  {
   "cell_type": "code",
   "execution_count": 48,
   "metadata": {
    "scrolled": false
   },
   "outputs": [
    {
     "data": {
      "text/plain": [
       "(-0.1, 1.1)"
      ]
     },
     "execution_count": 48,
     "metadata": {},
     "output_type": "execute_result"
    },
    {
     "data": {
      "image/png": "[encoded data removed]",
      "text/plain": [
       "<matplotlib.figure.Figure at 0x11c0ce400>"
      ]
     },
     "metadata": {},
     "output_type": "display_data"
    }
   ],
   "source": [
    "train_sizes, train_scores, test_scores = learning_curve(xgbc, X_training, y_training, n_jobs=-1, cv=sss, train_sizes=np.linspace(.1, 1.0, 5), verbose=0)\n",
    "\n",
    "# calculate mean and standard deviation for training and testing scores\n",
    "train_scores_mean = np.mean(train_scores, axis=1)\n",
    "train_scores_std = np.std(train_scores, axis=1)\n",
    "test_scores_mean = np.mean(test_scores, axis=1)\n",
    "test_scores_std = np.std(test_scores, axis=1)\n",
    "\n",
    "# setup the plot\n",
    "plt.figure(figsize = (8,5))\n",
    "plt.title('XGBoost classifier')\n",
    "plt.xlabel(\"Training examples\")\n",
    "plt.ylabel(\"Score\")\n",
    "plt.plot([1,760],[1,1], linewidth=2, color = 'r')\n",
    "\n",
    "plt.grid()\n",
    "    \n",
    "# shade the area +/- one standard deviation of the mean scores\n",
    "plt.fill_between(train_sizes, train_scores_mean - train_scores_std, train_scores_mean + train_scores_std, alpha=0.1, color=\"b\")\n",
    "plt.fill_between(train_sizes, test_scores_mean - test_scores_std, test_scores_mean + test_scores_std, alpha=0.1, color=\"g\")\n",
    "    \n",
    "# plot the mean training and test scores vs training set size\n",
    "plt.plot(train_sizes, train_scores_mean, 'o-', color=\"b\", label=\"Training score\")\n",
    "plt.plot(train_sizes, test_scores_mean, 'o-', color=\"g\", label=\"Cross-validation score\")\n",
    "\n",
    "plt.ylim(-.1,1.1)"
   ]
  },
  {
   "cell_type": "markdown",
   "metadata": {},
   "source": [
    "Looking at my learning curve it looks like the the XGBoost classifier is definitely of the **high bias low variance** type. The curves are also quite flat suggesting adding more data is unlikely to improve performance substantially."
   ]
  },
  {
   "cell_type": "markdown",
   "metadata": {},
   "source": [
    "## Confusion matrix\n",
    "The confusion matrix is a plot of the predictions generated by the classifier, separated into True predictions (true positives (TP) and true negatives (TN)) and False predictions (false positives (FP) and false negatives (FN)), allowing you to visualise which predictions your model is getting wrong most often"
   ]
  },
  {
   "cell_type": "markdown",
   "metadata": {},
   "source": [
    "![confusion_matrix](http://revolution-computing.typepad.com/.a/6a010534b1db25970b01bb08c97955970d-pi)"
   ]
  },
  {
   "cell_type": "markdown",
   "metadata": {},
   "source": [
    "http://revolution-computing.typepad.com/.a/6a010534b1db25970b01bb08c97955970d-pi"
   ]
  },
  {
   "cell_type": "markdown",
   "metadata": {},
   "source": [
    "In the confusion matrix plot below you can see that the classifier predicts survived = 0 more than survived = 1 and the false positives and false negatives look comparatively low. Nevertheless it looks to have more false survived = 0 predictions than false survived = 1 predictions, perhaps due to the greater number of dead individuals in the training data."
   ]
  },
  {
   "cell_type": "code",
   "execution_count": 49,
   "metadata": {},
   "outputs": [
    {
     "data": {
      "text/plain": [
       "<matplotlib.axes._subplots.AxesSubplot at 0x11e8b88d0>"
      ]
     },
     "execution_count": 49,
     "metadata": {},
     "output_type": "execute_result"
    },
    {
     "data": {
      "image/png": "[encoded data removed]",
      "text/plain": [
       "<matplotlib.figure.Figure at 0x11dfec550>"
      ]
     },
     "metadata": {},
     "output_type": "display_data"
    }
   ],
   "source": [
    "from sklearn.model_selection import cross_val_predict\n",
    "from pandas_ml import ConfusionMatrix\n",
    "predictions = cross_val_predict(xgbc, X_training, y_training, cv=10)\n",
    "cm = ConfusionMatrix(y_training, predictions)\n",
    "cm.plot()"
   ]
  },
  {
   "cell_type": "markdown",
   "metadata": {},
   "source": [
    "## Precision and recall"
   ]
  },
  {
   "cell_type": "markdown",
   "metadata": {},
   "source": [
    "Precision and recall are useful for assessing model performance in instances where the distributions of classes in the training data are imbalanced. \n",
    "\n",
    "Precision = of the times positive is predicted, what fraction of those predictions were correct (dependent on bias).\n",
    "\n",
    "\n",
    "$$ Precision = \\dfrac {TP} {TP+FP} $$ \n",
    "\n",
    "Recall = of the positive class examples present in the data, what fraction were predicted successfully (dependent on variance).\n",
    "\n",
    "\n",
    "$$ Recall = \\dfrac {TP} {TP+FN} $$\n",
    "\n",
    "Precision and recall can be used to calculate the F1 score, the harmonic mean of precision and recall and another performance metric to look at:\n",
    "\n",
    "$$ F1 = 2 * \\dfrac {(Precision * Recall)} {(Precision + Recall)} $$"
   ]
  },
  {
   "cell_type": "code",
   "execution_count": 50,
   "metadata": {},
   "outputs": [
    {
     "data": {
      "text/plain": [
       "0.76802507836990597"
      ]
     },
     "execution_count": 50,
     "metadata": {},
     "output_type": "execute_result"
    }
   ],
   "source": [
    "from sklearn.metrics import f1_score\n",
    "f1_score(y_training, predictions)"
   ]
  },
  {
   "cell_type": "markdown",
   "metadata": {},
   "source": [
    "Plotting precision vs recall gives an idea of overall model performance. Curves for perfect binary classifiers shown below. Notice how the baseline model (50/50 random prediction of either class) shifts dependent on the distribution of classes in the dataset."
   ]
  },
  {
   "cell_type": "markdown",
   "metadata": {},
   "source": [
    "![precision_recall](https://classeval.files.wordpress.com/2015/06/perfect-precision-recall-curve1.png?w=840&h=448)"
   ]
  },
  {
   "cell_type": "markdown",
   "metadata": {},
   "source": [
    "https://classeval.wordpress.com/introduction/introduction-to-the-precision-recall-plot/"
   ]
  },
  {
   "cell_type": "code",
   "execution_count": 51,
   "metadata": {
    "collapsed": true
   },
   "outputs": [],
   "source": [
    "from sklearn.metrics import precision_recall_curve\n",
    "\n",
    "# generate predictions from the training data\n",
    "y_scores = xgbc.predict_proba(X_training)\n",
    "y_scores = y_scores[:,1]\n",
    "\n",
    "precision, recall, threshold = precision_recall_curve(y_training, y_scores)"
   ]
  },
  {
   "cell_type": "code",
   "execution_count": 52,
   "metadata": {},
   "outputs": [
    {
     "data": {
      "image/png": "[encoded data removed]",
      "text/plain": [
       "<matplotlib.figure.Figure at 0x11e9ad780>"
      ]
     },
     "metadata": {},
     "output_type": "display_data"
    }
   ],
   "source": [
    "def plot_precision_vs_recall(precision, recall):\n",
    "    plt.plot(recall, precision, \"g\", linewidth=2)\n",
    "    plt.ylabel(\"Recall\")\n",
    "    plt.xlabel(\"Precision\")\n",
    "    plt.axis([0, 1.5, 0, 1.5])\n",
    "    plt.xlim(0,1)\n",
    "    plt.ylim(0,1.1)\n",
    "    \n",
    "plt.figure(figsize=(8, 5))\n",
    "plot_precision_vs_recall(precision, recall)"
   ]
  },
  {
   "cell_type": "markdown",
   "metadata": {},
   "source": [
    "Looks like my classifier is not perfect but not too bad."
   ]
  },
  {
   "cell_type": "markdown",
   "metadata": {},
   "source": [
    "## Precision vs recall trade-off\n",
    "\n",
    "Depending on the application of the classifier you may want to adjust the model for high precision lower recall or higher recall and lower precision. In this case I just want to make the most accurate predictor but if for example the consequences of subsequent decisions based on false positives were worse than false negatives, you would want to adjust the threshold to increase the precision at the expense of the recall of the classifier. You can calculate the precision and recall for a range of threshold values (cut off values generating a decision boundary between the two classes in the binary classifier) and plot them to visualise the precison/recall trade-off of the model."
   ]
  },
  {
   "cell_type": "code",
   "execution_count": 53,
   "metadata": {},
   "outputs": [
    {
     "data": {
      "image/png": "[encoded data removed]",
      "text/plain": [
       "<matplotlib.figure.Figure at 0x11efb96a0>"
      ]
     },
     "metadata": {},
     "output_type": "display_data"
    }
   ],
   "source": [
    "def plot_precision_and_recall(precision, recall, threshold):\n",
    "    plt.plot(threshold, precision[:-1], \"r-\", label=\"Precision\", linewidth=2)\n",
    "    plt.plot(threshold, recall[:-1], \"b\", label=\"Recall\", linewidth=2)\n",
    "    plt.xlabel(\"Threshold\")\n",
    "    plt.legend(loc=\"upper right\")\n",
    "    plt.ylim([0, 1])\n",
    "\n",
    "plt.figure(figsize=(8, 5))\n",
    "plot_precision_and_recall(precision, recall, threshold)"
   ]
  },
  {
   "cell_type": "markdown",
   "metadata": {},
   "source": [
    "Based on the curve above if a precision of ~90% was desired a threshold of 0.6 could be used, which would come at the cost of a recall of ~75%"
   ]
  },
  {
   "cell_type": "markdown",
   "metadata": {},
   "source": [
    "## Reciever operator characteristic - area under curve (ROC AUC)\n",
    "Another visualisation of model performance is the ROC curve, a plot of true positive rate vs false positive rate, which also gives you the ROC-AUC performance metric. A random classifier would give a plot like the red line whilst a perfect classifier would follow the green line."
   ]
  },
  {
   "cell_type": "code",
   "execution_count": 54,
   "metadata": {},
   "outputs": [
    {
     "data": {
      "image/png": "[encoded data removed]",
      "text/plain": [
       "<matplotlib.figure.Figure at 0x11f040cc0>"
      ]
     },
     "metadata": {},
     "output_type": "display_data"
    }
   ],
   "source": [
    "from sklearn.metrics import roc_curve\n",
    "\n",
    "# calculate rates of false +ve and true +ve predictions\n",
    "false_positive_rate, true_positive_rate, thresholds = roc_curve(y_training, y_scores)\n",
    "\n",
    "def plot_roc_curve(false_positive_rate, true_positive_rate, label=None):\n",
    "    plt.plot(false_positive_rate, true_positive_rate, linewidth=2, label=label)\n",
    "    plt.plot([0, 1], [0, 1], 'r', linewidth=2)\n",
    "    plt.plot([0, 1], [1, 1], 'g', linewidth=1.5)\n",
    "    plt.plot([0, 0], [1, 0], 'g', linewidth=1.5)\n",
    "    plt.xlabel('False Positive Rate')\n",
    "    plt.ylabel('True Positive Rate')\n",
    "    plt.ylim(0,1.02)\n",
    "    plt.xlim(-0.005,1)\n",
    "\n",
    "plt.figure(figsize=(8, 5))\n",
    "plot_roc_curve(false_positive_rate, true_positive_rate)"
   ]
  },
  {
   "cell_type": "code",
   "execution_count": 55,
   "metadata": {},
   "outputs": [
    {
     "name": "stdout",
     "output_type": "stream",
     "text": [
      "ROC-AUC Score: 0.913907796206\n"
     ]
    }
   ],
   "source": [
    "from sklearn.metrics import roc_auc_score\n",
    "r_a_score = roc_auc_score(y_training, y_scores)\n",
    "print(\"ROC-AUC Score:\", r_a_score)"
   ]
  },
  {
   "cell_type": "markdown",
   "metadata": {},
   "source": [
    "The curve looks to be closer to the top left hand corner than the red line and so the AUC score is close approaching 1. The classifier is doing a reasonable job!"
   ]
  },
  {
   "cell_type": "markdown",
   "metadata": {},
   "source": [
    "# Submission"
   ]
  },
  {
   "cell_type": "code",
   "execution_count": 56,
   "metadata": {
    "collapsed": true
   },
   "outputs": [],
   "source": [
    "submission_testing = df_test.drop(['PassengerId','not_alone', 'Male_P3','Parch'], axis = 1).copy()\n",
    "Y_prediction = xgbc.predict(submission_testing)"
   ]
  },
  {
   "cell_type": "code",
   "execution_count": 57,
   "metadata": {
    "collapsed": true
   },
   "outputs": [],
   "source": [
    "submission = pd.DataFrame({\n",
    "        \"PassengerId\": df_test[\"PassengerId\"],\n",
    "        \"Survived\": Y_prediction\n",
    "    })\n",
    "submission.to_csv('/Users/constar/Desktop/submission.csv', index=False)"
   ]
  },
  {
   "cell_type": "markdown",
   "metadata": {},
   "source": [
    "# Conclusions\n",
    "Exploration of the data shows many features correlate with survival. Interestingly the XGBoost classifier which cross validation indicated was the most accurate algorithm, didn't rely heavily on all of the engineered features  according to the importance plot. The relatively low importance of the Sex feature, which seemed a very strongly correlated feature with survival was suprising. The accuracy of the XGBoost classifier I have trained could definitely be improved through systematic feature selection and parameter tuning. Nevertheless with the minimal tweaking demonstrated here it is reasonably accurate. \n",
    "\n",
    "** Many thanks to the countless Kaggle kernel authors and blog writers whose work helped me in developing this kernel.**"
   ]
  }
 ],
 "metadata": {
  "kernelspec": {
   "display_name": "Python 3",
   "language": "python",
   "name": "python3"
  },
  "language_info": {
   "codemirror_mode": {
    "name": "ipython",
    "version": 3
   },
   "file_extension": ".py",
   "mimetype": "text/x-python",
   "name": "python",
   "nbconvert_exporter": "python",
   "pygments_lexer": "ipython3",
   "version": "3.6.1"
  }
 },
 "nbformat": 4,
 "nbformat_minor": 2
}
